{
 "cells": [
  {
   "cell_type": "code",
   "execution_count": null,
   "metadata": {},
   "outputs": [],
   "source": [
    "from torch import randint\n",
    "from torch import nn, optim\n",
    "import torch \n",
    "import gym\n",
    "import numpy as np\n",
    "\n",
    "from collections import deque\n",
    "import random\n",
    "\n",
    "from scores.score_logger import ScoreLogger"
   ]
  },
  {
   "cell_type": "code",
   "execution_count": null,
   "metadata": {},
   "outputs": [],
   "source": [
    "class Learners: \n",
    "    def __init__(self):\n",
    "        self.Q = \"Q\"\n",
    "        self.SARSA = \"SARSA\"\n",
    "\n",
    "NV_NAME = \"CartPole-v1\"\n",
    "GAMMA = 0.95\n",
    "MEMORY = 1000000\n",
    "BATCH_SIZE = 50\n",
    "LEARNING_RATE = 0.01\n",
    "STEP_SIZE = 1\n",
    "EXPLORATION_DECAY = 0.995\n",
    "EXPLORATION_MAX = 1.0\n",
    "EXPLORATION_MIN = 0.01\n"
   ]
  },
  {
   "cell_type": "code",
   "execution_count": null,
   "metadata": {},
   "outputs": [],
   "source": [
    "class DQN:\n",
    "    def __init__(self, observation_space, action_space, learner):\n",
    "        self.model = nn.Sequential(\n",
    "            nn.Linear(observation_space.shape[0], 16),\n",
    "            nn.ReLU(),\n",
    "            nn.Linear(16, 16),\n",
    "            nn.ReLU(),\n",
    "            nn.Linear(16, 16),\n",
    "            nn.ReLU(),\n",
    "            nn.Linear(16, action_space.n)\n",
    "        )\n",
    "        self.observation_space = observation_space\n",
    "        self.action_space = action_space\n",
    "        self.learner = learner\n",
    "\n",
    "        self.optimizer = optim.Adam(self.model.parameters(), lr=LEARNING_RATE)\n",
    "        self.loss_fn = nn.MSELoss()\n",
    "        self.exploration_rate = EXPLORATION_MAX\n",
    "        self.discount = GAMMA\n",
    "        self.memory = deque(maxlen=MEMORY)\n",
    "\n",
    "    def remember(self, state, action, reward, next_state, done):\n",
    "        self.memory.append((state, action, reward, next_state, done))\n",
    "\n",
    "    # Sometimes act randomly. Do so less and less as the exploration rate decays.\n",
    "    def act(self, state):\n",
    "        if (np.random.rand() < self.exploration_rate):\n",
    "            return self.action_space.sample()\n",
    "        # print(self.model(torch.from_numpy(state)))\n",
    "        # print(self.model(torch.from_numpy(state)).argmax().item())\n",
    "        return self.model(torch.from_numpy(state)).argmax().item()\n",
    "    \n",
    "    def get_q_next(self, next_state):\n",
    "        next_qs = self.model(torch.from_numpy(next_state))\n",
    "\n",
    "        if self.learner == \"Q\":\n",
    "            return self.discount * next_qs.max()\n",
    "        elif self.learner == \"SARSA\":\n",
    "            return next_qs[0][random.randint(0,next_qs[0].size(0) - 1)]\n",
    "\n",
    "    def experience_replay(self):\n",
    "        # Don't replay if we don't have enough memory\n",
    "        if len(self.memory) < BATCH_SIZE:\n",
    "            return\n",
    "            \n",
    "        batch = random.sample(self.memory, BATCH_SIZE)\n",
    "        # self.optimizer.zero_grad()\n",
    "        for state, action, reward, next_state, terminal in batch:    \n",
    "            q_update = reward\n",
    "            # Update the q value for the action we took\n",
    "            # Bellman inspired update\n",
    "            # Current state rewards plus next state rewards discounted by gamma\n",
    "            old_q_values = self.model(torch.from_numpy(state))\n",
    "            if not terminal:\n",
    "                q_update = old_q_values[0][action] + STEP_SIZE * (reward + self.get_q_next(next_state) - old_q_values[0][action])\n",
    "            else: \n",
    "                # create long tensor\n",
    "                q_update = torch.tensor(q_update, dtype=torch.float32)\n",
    "            \n",
    "            ## Update the new Q value\n",
    "            new_q_values = old_q_values.clone()\n",
    "\n",
    "            ## Update the q_value for the action we took\n",
    "            new_q_values[0][action] = q_update\n",
    "\n",
    "            ## Update the q_value for the action we took\n",
    "            loss = self.loss_fn(old_q_values, new_q_values)\n",
    "\n",
    "            # We reset the optimizer each time because we are training in batches of one\n",
    "            self.optimizer.zero_grad()\n",
    "\n",
    "            # Back propagate the loss\n",
    "            loss.backward(retain_graph=True)\n",
    "\n",
    "            # Update the weights\n",
    "            self.optimizer.step()   \n",
    "            \n",
    "        # Decay the exploration rate\n",
    "        self.exploration_rate *= EXPLORATION_DECAY\n",
    "        self.exploration_rate = max(EXPLORATION_MIN, self.exploration_rate)     \n",
    "\n",
    "    "
   ]
  },
  {
   "cell_type": "code",
   "execution_count": null,
   "metadata": {},
   "outputs": [],
   "source": [
    "# Create environment and a way to track the score\n",
    "env = gym.make(ENV_NAME)\n",
    "score_logger = ScoreLogger(ENV_NAME)\n",
    "learner = Learners().Q\n",
    "\n",
    "# Reset the environment and get the first state\n",
    "state, info = env.reset(seed=46, return_info=True)\n",
    "\n",
    "# Create the agent\n",
    "DQN_AGENT = DQN(env.observation_space, env.action_space, learner)\n",
    "\n",
    "run = 0 # run is the number of episodes\n",
    "while run < 100:\n",
    "    run += 1\n",
    "    state = env.reset()\n",
    "    state = np.reshape(state, [1, env.observation_space.shape[0]])\n",
    "    step = 0\n",
    "    while(True): \n",
    "        step += 1\n",
    "\n",
    "        # Predict action then take action in environment\n",
    "        action = DQN_AGENT.act(state)\n",
    "        state_next, reward, terminal, info = env.step(action)\n",
    "\n",
    "        # Get set reward negative if game over\n",
    "        reward = reward if not terminal else -reward\n",
    "        state_next = np.reshape(state_next, [1, env.observation_space.shape[0]])\n",
    "\n",
    "        # Store experience in memory\n",
    "        DQN_AGENT.remember(state, action, reward, state_next, terminal)\n",
    "        state = state_next\n",
    "\n",
    "        if terminal:\n",
    "            print(\"Run: \" + str(run) + \", exploration: \" + str(DQN_AGENT.exploration_rate) + \", score: \" + str(step))\n",
    "            score_logger.add_score(step, run)\n",
    "            break\n",
    "        \n",
    "        # Experience replay - train model\n",
    "        DQN_AGENT.experience_replay()\n",
    "        \n"
   ]
  },
  {
   "cell_type": "code",
   "execution_count": null,
   "metadata": {},
   "outputs": [],
   "source": [
    "model = nn.Sequential(\n",
    "            nn.Linear(4, 16),\n",
    "            nn.ReLU(),\n",
    "            nn.Linear(16, 16),\n",
    "            nn.ReLU(),\n",
    "            nn.Linear(16, 16),\n",
    "            nn.ReLU(),\n",
    "            nn.Linear(16, 2)\n",
    "        )"
   ]
  },
  {
   "cell_type": "code",
   "execution_count": null,
   "metadata": {},
   "outputs": [],
   "source": [
    "model(torch.from_numpy(state))"
   ]
  },
  {
   "cell_type": "code",
   "execution_count": null,
   "metadata": {},
   "outputs": [],
   "source": [
    "## select a random value from the tensor\n",
    "model(torch.from_numpy(state))[0][random.randint(0,model(torch.from_numpy(state))[0].size(0) - 1)]\n"
   ]
  },
  {
   "cell_type": "code",
   "execution_count": null,
   "metadata": {},
   "outputs": [],
   "source": [
    "#get a random integer between 0 and 4\n",
    "random.randint(0,model(torch.from_numpy(state))[0].size(0) - 1)"
   ]
  },
  {
   "cell_type": "code",
   "execution_count": null,
   "metadata": {},
   "outputs": [],
   "source": []
  },
  {
   "cell_type": "code",
   "execution_count": null,
   "metadata": {},
   "outputs": [],
   "source": []
  }
 ],
 "metadata": {
  "kernelspec": {
   "display_name": "Python 3.9.12 ('aiGym-3-9')",
   "language": "python",
   "name": "python3"
  },
  "language_info": {
   "codemirror_mode": {
    "name": "ipython",
    "version": 3
   },
   "file_extension": ".py",
   "mimetype": "text/x-python",
   "name": "python",
   "nbconvert_exporter": "python",
   "pygments_lexer": "ipython3",
   "version": "3.9.12"
  },
  "orig_nbformat": 4,
  "vscode": {
   "interpreter": {
    "hash": "d989930d2ce6478f400bece301e290be5d0537f88c7447ba48889ddf48d55e98"
   }
  }
 },
 "nbformat": 4,
 "nbformat_minor": 2
}
