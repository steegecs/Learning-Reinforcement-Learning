{
 "cells": [
  {
   "cell_type": "code",
   "execution_count": 3,
   "metadata": {},
   "outputs": [
    {
     "ename": "ImportError",
     "evalue": "cannot import name 'TicTacToe' from 'envs.tic_tac_toe' (/Users/chris/repos/Learning-Reinforcement-Learning/envs/tic_tac_toe.py)",
     "output_type": "error",
     "traceback": [
      "\u001b[0;31m---------------------------------------------------------------------------\u001b[0m",
      "\u001b[0;31mImportError\u001b[0m                               Traceback (most recent call last)",
      "\u001b[1;32m/Users/chris/repos/Learning-Reinforcement-Learning/tic.tac.toe.ipynb Cell 1\u001b[0m in \u001b[0;36m<cell line: 1>\u001b[0;34m()\u001b[0m\n\u001b[0;32m----> <a href='vscode-notebook-cell:/Users/chris/repos/Learning-Reinforcement-Learning/tic.tac.toe.ipynb#W0sZmlsZQ%3D%3D?line=0'>1</a>\u001b[0m \u001b[39mfrom\u001b[39;00m \u001b[39menvs\u001b[39;00m\u001b[39m.\u001b[39;00m\u001b[39mtic_tac_toe\u001b[39;00m \u001b[39mimport\u001b[39;00m TicTacToe\n",
      "\u001b[0;31mImportError\u001b[0m: cannot import name 'TicTacToe' from 'envs.tic_tac_toe' (/Users/chris/repos/Learning-Reinforcement-Learning/envs/tic_tac_toe.py)"
     ]
    }
   ],
   "source": [
    "from envs.tic_tac_toe import TicTacToe\n"
   ]
  },
  {
   "cell_type": "code",
   "execution_count": null,
   "metadata": {},
   "outputs": [],
   "source": []
  }
 ],
 "metadata": {
  "kernelspec": {
   "display_name": "Python 3.9.7 ('base')",
   "language": "python",
   "name": "python3"
  },
  "language_info": {
   "codemirror_mode": {
    "name": "ipython",
    "version": 3
   },
   "file_extension": ".py",
   "mimetype": "text/x-python",
   "name": "python",
   "nbconvert_exporter": "python",
   "pygments_lexer": "ipython3",
   "version": "3.9.7"
  },
  "orig_nbformat": 4,
  "vscode": {
   "interpreter": {
    "hash": "56941cacf15e8b05765996006082865469347c2b4cdce983108d1335de8b4245"
   }
  }
 },
 "nbformat": 4,
 "nbformat_minor": 2
}
