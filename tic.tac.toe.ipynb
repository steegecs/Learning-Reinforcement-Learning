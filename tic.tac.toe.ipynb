{
 "cells": [
  {
   "cell_type": "code",
   "execution_count": 1,
   "metadata": {},
   "outputs": [],
   "source": [
    "from envs.tic_tac_toe import TicTacToe\n",
    "from models.MCTS import MCTS\n",
    "from models.MCTS import Tree\n",
    "import numpy as np\n",
    "import random"
   ]
  },
  {
   "cell_type": "code",
   "execution_count": 2,
   "metadata": {},
   "outputs": [],
   "source": [
    "env = TicTacToe()"
   ]
  },
  {
   "cell_type": "code",
   "execution_count": null,
   "metadata": {},
   "outputs": [],
   "source": [
    "env.step((0,1))"
   ]
  },
  {
   "cell_type": "code",
   "execution_count": 3,
   "metadata": {},
   "outputs": [
    {
     "name": "stdout",
     "output_type": "stream",
     "text": [
      "0.3008595988538682 (0, 0)\n",
      "-0.5502645502645502 (0, 1)\n",
      "0.367337807606264 (0, 2)\n",
      "-0.5204081632653061 (1, 0)\n",
      "0.40853897375636505 (1, 1)\n",
      "-0.5675675675675675 (1, 2)\n",
      "0.3697292498890368 (2, 0)\n",
      "-0.5573333333333333 (2, 1)\n",
      "-0.5113350125944585 (2, 2)\n",
      "Best action: (1, 1) with q: 0.40853897375636505 depth: 6\n"
     ]
    }
   ],
   "source": [
    "best_action, best_q, depth_searched = MCTS(env).get_action()"
   ]
  },
  {
   "cell_type": "code",
   "execution_count": null,
   "metadata": {},
   "outputs": [],
   "source": []
  },
  {
   "cell_type": "code",
   "execution_count": null,
   "metadata": {},
   "outputs": [],
   "source": []
  },
  {
   "cell_type": "code",
   "execution_count": null,
   "metadata": {},
   "outputs": [],
   "source": [
    "sorted(best, key=lambda t: t[0], reverse=True)"
   ]
  },
  {
   "cell_type": "code",
   "execution_count": null,
   "metadata": {},
   "outputs": [],
   "source": []
  }
 ],
 "metadata": {
  "kernelspec": {
   "display_name": "Python 3.9.12 ('aiGym-3-9')",
   "language": "python",
   "name": "python3"
  },
  "language_info": {
   "codemirror_mode": {
    "name": "ipython",
    "version": 3
   },
   "file_extension": ".py",
   "mimetype": "text/x-python",
   "name": "python",
   "nbconvert_exporter": "python",
   "pygments_lexer": "ipython3",
   "version": "3.9.12"
  },
  "orig_nbformat": 4,
  "vscode": {
   "interpreter": {
    "hash": "d989930d2ce6478f400bece301e290be5d0537f88c7447ba48889ddf48d55e98"
   }
  }
 },
 "nbformat": 4,
 "nbformat_minor": 2
}
