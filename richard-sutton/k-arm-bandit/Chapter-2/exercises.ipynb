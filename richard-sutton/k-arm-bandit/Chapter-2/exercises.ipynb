{
 "cells": [
  {
   "cell_type": "code",
   "execution_count": null,
   "metadata": {},
   "outputs": [],
   "source": [
    "import numpy as np"
   ]
  },
  {
   "cell_type": "markdown",
   "metadata": {},
   "source": [
    "Exercise 2.4 If the step-size parameters, ↵n, are not constant, then the estimate Qn is\n",
    "a weighted average of previously received rewards with a weighting di↵erent from that\n",
    "given by (2.6). What is the weighting on each prior reward for the general case, analogous\n",
    "to (2.6), in terms of the sequence of step-size parameters?\n",
    "\n",
    "- It would be analagous to an exponential decay function "
   ]
  },
  {
   "cell_type": "markdown",
   "metadata": {},
   "source": [
    "Exercise 2.5 (programming) Design and conduct an experiment to demonstrate the\n",
    "diculties that sample-average methods have for nonstationary problems. Use a modified\n",
    "version of the 10-armed testbed in which all the q⇤(a) start out equal and then take\n",
    "independent random walks (say by adding a normally distributed increment with mean 0\n",
    "and standard deviation 0.01 to all the q⇤(a) on each step). Prepare plots like Figure 2.2\n",
    "for an action-value method using sample averages, incrementally computed, and another\n",
    "action-value method using a constant step-size parameter, ↵ = 0.1. Use \" = 0.1 and\n",
    "longer runs, say of 10,000 steps.\n",
    "\n",
    "- see k-arm-bandit.ipynb"
   ]
  },
  {
   "cell_type": "markdown",
   "metadata": {},
   "source": [
    "Exercise 2.6: Mysterious Spikes The results shown in Figure 2.3 should be quite reliable\n",
    "because they are averages over 2000 individual, randomly chosen 10-armed bandit tasks.\n",
    "Why, then, are there oscillations and spikes in the early part of the curve for the optimistic\n",
    "method? In other words, what might make this method perform particularly better or\n",
    "worse, on average, on particular early steps? \n",
    "\n",
    "- It can perform particularly better or worse early on, because the algorithm want to explore me. The spike behavior is the result of the algorithm not committing yet to one path or the other. This encouraged exploration in the beginning causes chaotic behavior in the beginning, but can pay off in the end, because it had more incentive to explore the the action space."
   ]
  },
  {
   "cell_type": "markdown",
   "metadata": {},
   "source": []
  },
  {
   "cell_type": "markdown",
   "metadata": {},
   "source": [
    "Exercise 2.7: Unbiased Constant-Step-Size Trick In most of this chapter we have used\n",
    "sample averages to estimate action values because sample averages do not produce the\n",
    "initial bias that constant step sizes do (see the analysis leading to (2.6)). However, sample\n",
    "averages are not a completely satisfactory solution because they may perform poorly\n",
    "on nonstationary problems. Is it possible to avoid the bias of constant step sizes while\n",
    "retaining their advantages on nonstationary problems?\n",
    "\n",
    "![](images/Exercise-2.7.png)"
   ]
  },
  {
   "cell_type": "markdown",
   "metadata": {},
   "source": []
  }
 ],
 "metadata": {
  "kernelspec": {
   "display_name": "Python 3.9.7 ('base')",
   "language": "python",
   "name": "python3"
  },
  "language_info": {
   "name": "python",
   "version": "3.9.7"
  },
  "orig_nbformat": 4,
  "vscode": {
   "interpreter": {
    "hash": "56941cacf15e8b05765996006082865469347c2b4cdce983108d1335de8b4245"
   }
  }
 },
 "nbformat": 4,
 "nbformat_minor": 2
}
