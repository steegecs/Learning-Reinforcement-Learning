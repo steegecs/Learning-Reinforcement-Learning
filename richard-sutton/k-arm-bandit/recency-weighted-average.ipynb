{
 "cells": [
  {
   "cell_type": "code",
   "execution_count": 1,
   "metadata": {},
   "outputs": [],
   "source": [
    "import numpy as np"
   ]
  },
  {
   "cell_type": "code",
   "execution_count": 2,
   "metadata": {},
   "outputs": [],
   "source": [
    "#Classic K-arm bandit example \n",
    "class k_arm_bandit:\n",
    "    def __init__(self, action_reward_mean, action_reward_variance, epsilon):\n",
    "        self.k = len(action_reward_mean)\n",
    "        self.action_reward_mean = action_reward_mean\n",
    "        self.action_reward_variance = action_reward_variance\n",
    "        self.epsilon = epsilon\n",
    "\n",
    "        self.average_reward = 0\n",
    "        self.n_actions = 0\n",
    "\n",
    "        self.cumulating_average_reward = []\n",
    "\n",
    "        self.Q = np.zeros(self.k)\n",
    "        self.N = np.zeros(self.k)\n",
    "    \n",
    "    def generate_reward(self, action):\n",
    "        return np.random.normal(self.action_reward_mean[action],self.action_reward_variance[action])\n",
    "\n",
    "    def act(self):\n",
    "        if np.random.rand() < self.epsilon:\n",
    "            return np.random.randint(self.k)\n",
    "        else:\n",
    "            return np.argmax(self.Q)\n",
    "\n",
    "    def update_average_reward(self, reward):\n",
    "        self.average_reward += (reward - self.average_reward) / (self.n_actions + 1)\n",
    "        self.cumulating_average_reward.append(self.average_reward)\n",
    "        self.n_actions += 1\n",
    "\n",
    "    def update(self, action, reward):\n",
    "        self.N[action] += 1\n",
    "        self.Q[action] += (reward - self.Q[action]) / self.N[action]"
   ]
  },
  {
   "cell_type": "code",
   "execution_count": null,
   "metadata": {},
   "outputs": [],
   "source": [
    "def test_k_arm_bandit(kab):\n",
    "    for i in range(10000):\n",
    "        action = kab.act()\n",
    "        reward = kab.generate_reward(action)\n",
    "        kab.update_average_reward(reward)\n",
    "        kab.update(action, reward)\n",
    "    \n",
    "    return kab.cumulating_average_reward"
   ]
  },
  {
   "cell_type": "code",
   "execution_count": null,
   "metadata": {},
   "outputs": [],
   "source": [
    "action_reward_mean = [1.0, 3.0, 2.0, 10.0, 1.0]\n",
    "action_reward_variance = [1.0, 1.0, 1.0, 7.0, 1.0]\n",
    "\n",
    "env1 = k_arm_bandit(action_reward_mean, action_reward_variance, epsilon=0.0)\n",
    "env2 = k_arm_bandit(action_reward_mean, action_reward_variance, epsilon=0.01)\n",
    "env3 = k_arm_bandit(action_reward_mean, action_reward_variance, epsilon=0.1)\n",
    "env4 = k_arm_bandit(action_reward_mean, action_reward_variance, epsilon=0.5)\n",
    "\n",
    "cumulative_avg_reward1 = test_k_arm_bandit(env1)\n",
    "cumulative_avg_reward2 = test_k_arm_bandit(env2)\n",
    "cumulative_avg_reward3 = test_k_arm_bandit(env3)\n",
    "cumulative_avg_reward4 = test_k_arm_bandit(env4)"
   ]
  },
  {
   "cell_type": "code",
   "execution_count": null,
   "metadata": {},
   "outputs": [],
   "source": [
    "# Plot the average reward with labels on the chart for each epsilon value\n",
    "import matplotlib.pyplot as plt\n",
    "plt.plot(cumulative_avg_reward1, label='epsilon = 0.0')\n",
    "plt.plot(cumulative_avg_reward2, label='epsilon = 0.01')\n",
    "plt.plot(cumulative_avg_reward3, label='epsilon = 0.1')\n",
    "plt.plot(cumulative_avg_reward4, label='epsilon = 0.5')\n",
    "plt.legend()\n",
    "\n",
    "# There is a clear difference in the average reward for each epsilon value\n",
    "# This is because the epsilon value is used to determine whether to explore or exploit\n",
    "# The higher the epsilon value, the more likely the agent will explore\n",
    "# The lower the epsilon value, the more likely the agent will exploit\n",
    "# The results highlight the trade-off between exploration and exploitation"
   ]
  }
 ],
 "metadata": {
  "kernelspec": {
   "display_name": "Python 3.9.7 ('base')",
   "language": "python",
   "name": "python3"
  },
  "language_info": {
   "codemirror_mode": {
    "name": "ipython",
    "version": 3
   },
   "file_extension": ".py",
   "mimetype": "text/x-python",
   "name": "python",
   "nbconvert_exporter": "python",
   "pygments_lexer": "ipython3",
   "version": "3.9.7"
  },
  "orig_nbformat": 4,
  "vscode": {
   "interpreter": {
    "hash": "56941cacf15e8b05765996006082865469347c2b4cdce983108d1335de8b4245"
   }
  }
 },
 "nbformat": 4,
 "nbformat_minor": 2
}
