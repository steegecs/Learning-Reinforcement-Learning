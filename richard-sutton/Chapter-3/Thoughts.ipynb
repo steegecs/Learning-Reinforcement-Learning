{
 "cells": [
  {
   "cell_type": "markdown",
   "metadata": {},
   "source": [
    "If we are reinforcement learners in the game of life, then one thing that is different is that we do not get episodes that allow us to have a fresh start because of a permentant bias (or why die). This incourages us to be cautious explorers, is this a useful notion to agents in reiforcement learning? "
   ]
  },
  {
   "cell_type": "markdown",
   "metadata": {},
   "source": [
    "Markov decision processes are the formal description of decision making processes. THey are defined by a set of states, possible actions for states, and rewards. Non-Markovian dynamics are cases when actions taken impact the environment it interacts with. This means the value of future states and actions are contingent upon previous actions event even when the agent is occupying the same state with the same set of actions. "
   ]
  },
  {
   "cell_type": "markdown",
   "metadata": {},
   "source": [
    "The optimal policy, state, and action, assume that we not only action optimally for this state, but continue to act optimally moving forward. This is why you saw the notation of taking the maximum value of all actions for with with subsequenty take the action which seeks the max value. Hence it is a recursive process. "
   ]
  },
  {
   "cell_type": "markdown",
   "metadata": {},
   "source": []
  }
 ],
 "metadata": {
  "kernelspec": {
   "display_name": "Python 3.9.7 ('base')",
   "language": "python",
   "name": "python3"
  },
  "language_info": {
   "name": "python",
   "version": "3.9.7"
  },
  "orig_nbformat": 4,
  "vscode": {
   "interpreter": {
    "hash": "56941cacf15e8b05765996006082865469347c2b4cdce983108d1335de8b4245"
   }
  }
 },
 "nbformat": 4,
 "nbformat_minor": 2
}
