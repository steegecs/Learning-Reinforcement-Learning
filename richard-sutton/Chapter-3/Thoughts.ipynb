{
 "cells": [
  {
   "cell_type": "markdown",
   "metadata": {},
   "source": [
    "If we are reinforcement learners in the game of life, then one thing that is different is that we do not get episodes that allow us to have a fresh start because of a permentant bias (or why die). This incourages us to be cautious explorers, is this a useful notion to agents in reiforcement learning? "
   ]
  }
 ],
 "metadata": {
  "language_info": {
   "name": "python"
  },
  "orig_nbformat": 4
 },
 "nbformat": 4,
 "nbformat_minor": 2
}
