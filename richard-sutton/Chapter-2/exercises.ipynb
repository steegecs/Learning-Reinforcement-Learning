{
 "cells": [
  {
   "cell_type": "code",
   "execution_count": null,
   "metadata": {},
   "outputs": [],
   "source": [
    "import numpy as np"
   ]
  },
  {
   "cell_type": "markdown",
   "metadata": {},
   "source": [
    "Exercise 2.4 If the step-size parameters, ↵n, are not constant, then the estimate Qn is\n",
    "a weighted average of previously received rewards with a weighting di↵erent from that\n",
    "given by (2.6). What is the weighting on each prior reward for the general case, analogous\n",
    "to (2.6), in terms of the sequence of step-size parameters?\n",
    "\n",
    "- It would be analagous to an exponential decay function "
   ]
  },
  {
   "cell_type": "markdown",
   "metadata": {},
   "source": [
    "Exercise 2.5 (programming) Design and conduct an experiment to demonstrate the\n",
    "diculties that sample-average methods have for nonstationary problems. Use a modified\n",
    "version of the 10-armed testbed in which all the q⇤(a) start out equal and then take\n",
    "independent random walks (say by adding a normally distributed increment with mean 0\n",
    "and standard deviation 0.01 to all the q⇤(a) on each step). Prepare plots like Figure 2.2\n",
    "for an action-value method using sample averages, incrementally computed, and another\n",
    "action-value method using a constant step-size parameter, ↵ = 0.1. Use \" = 0.1 and\n",
    "longer runs, say of 10,000 steps.\n",
    "\n",
    "- see k-arm-bandit.ipynb"
   ]
  },
  {
   "cell_type": "markdown",
   "metadata": {},
   "source": [
    "Exercise 2.6: Mysterious Spikes The results shown in Figure 2.3 should be quite reliable\n",
    "because they are averages over 2000 individual, randomly chosen 10-armed bandit tasks.\n",
    "Why, then, are there oscillations and spikes in the early part of the curve for the optimistic\n",
    "method? In other words, what might make this method perform particularly better or\n",
    "worse, on average, on particular early steps? \n",
    "\n",
    "- It can perform particularly better or worse early on, because the algorithm want to explore me. The spike behavior is the result of the algorithm not committing yet to one path or the other. This encouraged exploration in the beginning causes chaotic behavior in the beginning, but can pay off in the end, because it had more incentive to explore the the action space."
   ]
  },
  {
   "cell_type": "markdown",
   "metadata": {},
   "source": []
  },
  {
   "cell_type": "markdown",
   "metadata": {},
   "source": [
    "Exercise 2.7: Unbiased Constant-Step-Size Trick In most of this chapter we have used\n",
    "sample averages to estimate action values because sample averages do not produce the\n",
    "initial bias that constant step sizes do (see the analysis leading to (2.6)). However, sample\n",
    "averages are not a completely satisfactory solution because they may perform poorly\n",
    "on nonstationary problems. Is it possible to avoid the bias of constant step sizes while\n",
    "retaining their advantages on nonstationary problems?\n",
    "\n",
    "![](images/Exercise-2.7.png)"
   ]
  },
  {
   "cell_type": "markdown",
   "metadata": {},
   "source": [
    "Exercise 2.8: UCB Spikes In Figure 2.4 the UCB algorithm shows a distinct spike\n",
    "in performance on the 11th step. Why is this? Note that for your answer to be fully\n",
    "satisfactory it must explain both why the reward increases on the 11th step and why it\n",
    "decreases on the subsequent steps. Hint: If c = 1, then the spike is less prominent.\n",
    "\n",
    "- The spike occurs like this because you have more uncertainty built into the action policy. It gives more chances to the non-optimal actions (more likely to try them all out once or twice), until it shifts in favor of the more optimal action. However, after it tries the optimal action a few times in a row, it becomes more uncertain about the less optimal actions as time has gone by, and it has been taking the optimal action which decreases its uncertainty. This leads to the spike back downward. It starts to smooth out after this initial chaos, because uncertainty increases more slowly as time goes on (exponential).  "
   ]
  },
  {
   "cell_type": "markdown",
   "metadata": {},
   "source": [
    "Exercise 2.9 Show that in the case of two actions, the soft-max distribution is the same\n",
    "as that given by the logistic, or sigmoid, function often used in statistics and artificial\n",
    "neural networks."
   ]
  },
  {
   "cell_type": "markdown",
   "metadata": {},
   "source": [
    "Exercise 2.10 Suppose you face a 2-armed bandit task whose true action values change\n",
    "randomly from time step to time step. Specifically, suppose that, for any time step,\n",
    "the true values of actions 1 and 2 are respectively 10 and 20 with probability 0.5 (case\n",
    "A), and 90 and 80 with probability 0.5 (case B). If you are not able to tell which case\n",
    "you face at any step, what is the best expected reward you can achieve and how should\n",
    "you behave to achieve it? Now suppose that on each step you are told whether you are\n",
    "facing case A or case B (although you still don’t know the true action values). This is an\n",
    "associative search task. What is the best expected reward you can achieve in this task,\n",
    "and how should you behave to achieve it?"
   ]
  },
  {
   "cell_type": "markdown",
   "metadata": {},
   "source": [
    "The best expeected reward you can acheive with this task is 55. You should treat the baseline rewards for each state differently and have a separate policy for each state. "
   ]
  },
  {
   "cell_type": "markdown",
   "metadata": {},
   "source": [
    "Exercise 2.11 (programming) Make a figure analogous to Figure 2.6 for the nonstationary\n",
    "case outlined in Exercise 2.5. Include the constant-step-size \"-greedy algorithm with\n",
    "↵= 0.1. Use runs of 200,000 steps and, as a performance measure for each algorithm and\n",
    "parameter setting, use the average reward over the last 100,000 steps."
   ]
  }
 ],
 "metadata": {
  "kernelspec": {
   "display_name": "Python 3.9.7 ('base')",
   "language": "python",
   "name": "python3"
  },
  "language_info": {
   "name": "python",
   "version": "3.9.7"
  },
  "orig_nbformat": 4,
  "vscode": {
   "interpreter": {
    "hash": "56941cacf15e8b05765996006082865469347c2b4cdce983108d1335de8b4245"
   }
  }
 },
 "nbformat": 4,
 "nbformat_minor": 2
}
